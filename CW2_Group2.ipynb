{
 "cells": [
  {
   "cell_type": "markdown",
   "id": "16eb01a8-0d26-4355-9824-fcd8232032c7",
   "metadata": {},
   "source": [
    "## BD Assignment, Deadline : 07 April 2025"
   ]
  },
  {
   "cell_type": "code",
   "execution_count": 1,
   "id": "ee48e985-6a01-45ed-b4e8-9a8dfd6ba6ed",
   "metadata": {},
   "outputs": [],
   "source": [
    "import pandas as pd"
   ]
  },
  {
   "cell_type": "code",
   "execution_count": 3,
   "id": "31db24c9-b875-478e-8606-9797c80361b4",
   "metadata": {},
   "outputs": [
    {
     "name": "stdout",
     "output_type": "stream",
     "text": [
      "test\n"
     ]
    }
   ],
   "source": [
    "print (\"test\")"
   ]
  },
  {
   "cell_type": "code",
   "execution_count": 9,
   "id": "59e5fb23-015d-4f98-922b-4cc9a37ac20f",
   "metadata": {},
   "outputs": [
    {
     "name": "stdout",
     "output_type": "stream",
     "text": [
      "hello\n"
     ]
    }
   ],
   "source": [
    "print (\"hello\")"
   ]
  },
  {
   "cell_type": "code",
   "execution_count": 3,
   "id": "f0d870ad-a847-44d2-8262-dadebef0a159",
   "metadata": {},
   "outputs": [
    {
     "name": "stdout",
     "output_type": "stream",
     "text": [
      "lab\n"
     ]
    }
   ],
   "source": [
    "print (\"lab\")"
   ]
  }
 ],
 "metadata": {
  "kernelspec": {
   "display_name": "Python 3 (ipykernel)",
   "language": "python",
   "name": "python3"
  },
  "language_info": {
   "codemirror_mode": {
    "name": "ipython",
    "version": 3
   },
   "file_extension": ".py",
   "mimetype": "text/x-python",
   "name": "python",
   "nbconvert_exporter": "python",
   "pygments_lexer": "ipython3",
   "version": "3.12.7"
  }
 },
 "nbformat": 4,
 "nbformat_minor": 5
}
