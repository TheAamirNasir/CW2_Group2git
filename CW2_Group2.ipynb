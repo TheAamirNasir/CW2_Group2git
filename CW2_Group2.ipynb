{
 "cells": [
  {
   "cell_type": "markdown",
   "id": "16eb01a8-0d26-4355-9824-fcd8232032c7",
   "metadata": {},
   "source": [
    "## BD Assignment, Deadline : 07 April 2025"
   ]
  },
  {
   "cell_type": "code",
   "execution_count": null,
   "id": "ee48e985-6a01-45ed-b4e8-9a8dfd6ba6ed",
   "metadata": {},
   "outputs": [],
   "source": []
  }
 ],
 "metadata": {
  "kernelspec": {
   "display_name": "Python 3 (ipykernel)",
   "language": "python",
   "name": "python3"
  },
  "language_info": {
   "codemirror_mode": {
    "name": "ipython",
    "version": 3
   },
   "file_extension": ".py",
   "mimetype": "text/x-python",
   "name": "python",
   "nbconvert_exporter": "python",
   "pygments_lexer": "ipython3",
   "version": "3.11.5"
  }
 },
 "nbformat": 4,
 "nbformat_minor": 5
}
